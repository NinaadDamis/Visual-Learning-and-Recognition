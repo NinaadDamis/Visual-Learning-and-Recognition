{
 "cells": [
  {
   "cell_type": "markdown",
   "id": "overhead-clinic",
   "metadata": {},
   "source": [
    "# Part 0: Dataloader and Visualizations"
   ]
  },
  {
   "cell_type": "code",
   "execution_count": 1,
   "id": "moved-crisis",
   "metadata": {},
   "outputs": [
    {
     "name": "stderr",
     "output_type": "stream",
     "text": [
      "/usr/lib/python3/dist-packages/requests/__init__.py:89: RequestsDependencyWarning: urllib3 (1.26.12) or chardet (3.0.4) doesn't match a supported version!\n",
      "  warnings.warn(\"urllib3 ({}) or chardet ({}) doesn't match a supported \"\n"
     ]
    }
   ],
   "source": [
    "import numpy as np\n",
    "from PIL import Image\n",
    "import scipy.io\n",
    "import torch\n",
    "import torch.nn as nn\n",
    "import torch.nn.functional as F\n",
    "import torchvision.models as models\n",
    "from torchvision import transforms, datasets\n",
    "from torch.utils.data import DataLoader\n",
    "import wandb\n",
    "\n",
    "from voc_dataset import VOCDataset\n",
    "from utils import *\n",
    "\n",
    "USE_WANDB = False"
   ]
  },
  {
   "cell_type": "markdown",
   "id": "angry-prague",
   "metadata": {},
   "source": [
    "## Q0.1: Editing the Dataloader\n",
    "The first part of the assignment involves editing the dataloader so that we can access bounding-box proposals as well as the ground-truth bounding boxes. The ground truth bounding box can be accessed through the VOC Dataset annotations itself and we have completed this part for you in the starter code. \n",
    "\n",
    "Unsupervised bounding box proposals are obtained through methods such as [Selective Search](https://ivi.fnwi.uva.nl/isis/publications/2013/UijlingsIJCV2013/UijlingsIJCV2013.pdf). Since Selective Search is slow to run on each image, we have pre-computed the bounding box proposals for you (you downloaded this in the data preparation step).\n",
    "\n",
    "Your task is to change the dataloader to obtain the proposed bounding boxes for each image. Feel free to experiment with the data in the files to figure out the number of proposals per image, their scores, etc. Returning a dictionary would be convenient here. For the bounding boxes, using the relative positions is usually a better idea since they are invariant to changes in the size of the image."
   ]
  },
  {
   "cell_type": "code",
   "execution_count": 2,
   "id": "thousand-messaging",
   "metadata": {},
   "outputs": [
    {
     "name": "stdout",
     "output_type": "stream",
     "text": [
      "INITIALIZED!!!!!!!!!!!!!!!!!!!!!!!!!!!!!!!!!!!!!!!!!!1111111\n"
     ]
    }
   ],
   "source": [
    "dataset = VOCDataset('trainval', top_n=10)"
   ]
  },
  {
   "cell_type": "markdown",
   "id": "c2223be0",
   "metadata": {},
   "source": [
    "**Q0.1**: Load the image corresponding to index 2020 and print the GT labels associated with it.\n",
    "\n",
    "**Hint**: items at a particular index can be accesed by usual indexing notation (dataset[idx])"
   ]
  },
  {
   "cell_type": "code",
   "execution_count": 24,
   "id": "confused-witness",
   "metadata": {},
   "outputs": [
    {
     "name": "stdout",
     "output_type": "stream",
     "text": [
      "labels =  tensor([0., 0., 0., 0., 0., 0., 0., 0., 0., 0., 0., 0., 0., 0., 0., 0., 0., 0.,\n",
      "        1., 0.])\n",
      "Label name =  train\n"
     ]
    }
   ],
   "source": [
    "# TODO: get the image information from index 2020\n",
    "class_id_to_label = dict(enumerate(dataset.CLASS_NAMES))\n",
    "idx = 2020\n",
    "d = dataset[2020]\n",
    "img = d[\"image\"]\n",
    "labels = d[\"label\"]\n",
    "print(\"labels = \", labels)\n",
    "label_name = class_id_to_label[int(np.argmax(labels))]\n",
    "print(\"Label name = \", label_name)\n",
    "img = tensor_to_PIL(img)\n",
    "# img.show()"
   ]
  },
  {
   "cell_type": "markdown",
   "id": "rational-recycling",
   "metadata": {},
   "source": [
    "## Q0.2 and Q0.3: Wandb Logging\n",
    "First, let's initialize a Weights and Biases project. "
   ]
  },
  {
   "cell_type": "code",
   "execution_count": 4,
   "id": "conventional-flexibility",
   "metadata": {},
   "outputs": [
    {
     "name": "stderr",
     "output_type": "stream",
     "text": [
      "/usr/lib/python3/dist-packages/requests/__init__.py:89: RequestsDependencyWarning: urllib3 (1.26.12) or chardet (3.0.4) doesn't match a supported version!\n",
      "  warnings.warn(\"urllib3 ({}) or chardet ({}) doesn't match a supported \"\n",
      "wandb: Currently logged in as: ndamis (ndamises). Use `wandb login --relogin` to force relogin\n"
     ]
    },
    {
     "data": {
      "text/html": [
       "wandb version 0.13.4 is available!  To upgrade, please run:\n",
       " $ pip install wandb --upgrade"
      ],
      "text/plain": [
       "<IPython.core.display.HTML object>"
      ]
     },
     "metadata": {},
     "output_type": "display_data"
    },
    {
     "data": {
      "text/html": [
       "Tracking run with wandb version 0.13.3"
      ],
      "text/plain": [
       "<IPython.core.display.HTML object>"
      ]
     },
     "metadata": {},
     "output_type": "display_data"
    },
    {
     "data": {
      "text/html": [
       "Run data is saved locally in <code>/home/ninaad/vlr/object-localization/wandb/run-20221009_012340-4z0ha6s3</code>"
      ],
      "text/plain": [
       "<IPython.core.display.HTML object>"
      ]
     },
     "metadata": {},
     "output_type": "display_data"
    },
    {
     "data": {
      "text/html": [
       "Syncing run <strong><a href=\"https://wandb.ai/ndamises/VLR-HW1-Task0/runs/4z0ha6s3\" target=\"_blank\">super-sound-1</a></strong> to <a href=\"https://wandb.ai/ndamises/VLR-HW1-Task0\" target=\"_blank\">Weights & Biases</a> (<a href=\"https://wandb.me/run\" target=\"_blank\">docs</a>)<br/>"
      ],
      "text/plain": [
       "<IPython.core.display.HTML object>"
      ]
     },
     "metadata": {},
     "output_type": "display_data"
    }
   ],
   "source": [
    "USE_WANDB = True\n",
    "if USE_WANDB:\n",
    "    wandb.init(project=\"VLR-HW1-Task0\", reinit=True)"
   ]
  },
  {
   "cell_type": "markdown",
   "id": "demanding-ladder",
   "metadata": {},
   "source": [
    "**Q0.2**: Complete this block for overlaying the ground truth box on an image.\n",
    "\n",
    "**Hint**: convert the image tensor to a PIL image and plot it (check `utils.py` for helper functions). You can use [this](https://docs.wandb.ai/library/log) as a reference for logging syntax."
   ]
  },
  {
   "cell_type": "code",
   "execution_count": 6,
   "id": "resistant-concert",
   "metadata": {},
   "outputs": [],
   "source": [
    "\n",
    "# TODO: load the GT information corresponding to index 2020.\n",
    "original_image = img\n",
    "gt_labels = d[\"gt_classes\"]\n",
    "gt_boxes = d[\"gt_boxes\"]\n",
    "\n",
    "img = wandb.Image(original_image, boxes={\n",
    "    \"predictions\": {\n",
    "        \"box_data\": get_box_data(gt_labels, gt_boxes),\n",
    "        \"class_labels\": class_id_to_label,\n",
    "    },\n",
    "})\n",
    "\n",
    "# TODO: log the GT bounding box\n",
    "wandb.log({\"Q- 0.02 - Ground Truth Bounding Box\": img})    \n"
   ]
  },
  {
   "cell_type": "markdown",
   "id": "matched-thread",
   "metadata": {},
   "source": [
    "**Q0.3**: Visualize the top 10 bounding proposals corresponding to index 2020.\n",
    "\n",
    "**Hint**: Check the `get_box_data` function in `utils.py` and understand how it is being used. "
   ]
  },
  {
   "cell_type": "code",
   "execution_count": 20,
   "id": "floating-repository",
   "metadata": {},
   "outputs": [
    {
     "name": "stdout",
     "output_type": "stream",
     "text": [
      "tensor(18)\n",
      "Roi shape  (10, 4)\n"
     ]
    }
   ],
   "source": [
    "# TODO: plot top ten proposals (of bounding boxes)\n",
    "rois = d[\"rois\"]\n",
    "max = np.argmax(labels)\n",
    "print(max)\n",
    "print(\"Roi shape \", rois.shape)\n",
    "arr = [int(max)]*10\n",
    "img = wandb.Image(original_image, boxes={\n",
    "    \"predictions\": {\n",
    "        \"box_data\": get_box_data(arr, rois),\n",
    "        \"class_labels\": class_id_to_label,\n",
    "    },\n",
    "})\n",
    "\n",
    "wandb.log({\"ROI Proposals\": img})"
   ]
  },
  {
   "cell_type": "code",
   "execution_count": null,
   "id": "e7ee6c96",
   "metadata": {},
   "outputs": [],
   "source": []
  }
 ],
 "metadata": {
  "kernelspec": {
   "display_name": "Python 3.8.2 64-bit",
   "language": "python",
   "name": "python3"
  },
  "language_info": {
   "codemirror_mode": {
    "name": "ipython",
    "version": 3
   },
   "file_extension": ".py",
   "mimetype": "text/x-python",
   "name": "python",
   "nbconvert_exporter": "python",
   "pygments_lexer": "ipython3",
   "version": "3.8.10"
  },
  "vscode": {
   "interpreter": {
    "hash": "31f2aee4e71d21fbe5cf8b01ff0e069b9275f58929596ceb00d14d90e3e16cd6"
   }
  }
 },
 "nbformat": 4,
 "nbformat_minor": 5
}
